{
 "cells": [
  {
   "cell_type": "code",
   "execution_count": 9,
   "metadata": {},
   "outputs": [
    {
     "name": "stdout",
     "output_type": "stream",
     "text": [
      "Total de imágenes: 839\n",
      "Total de etiquetas: 839\n",
      "Imágenes con etiqueta correspondiente: 839\n",
      "Imágenes sin etiqueta correspondiente: 0\n"
     ]
    }
   ],
   "source": [
    "#Veremos si cada imagen tiene su respectivo label\n",
    "import os\n",
    "\n",
    "# Define las rutas a las carpetas de imágenes y etiquetas\n",
    "images_path = \"C:\\\\Users\\\\Diego\\\\OneDrive\\\\Imágenes\\\\TUBERÍAS INCRUSTADAS\\\\DATA TOTAL\"\n",
    "labels_path = \"C:\\\\Users\\\\Diego\\\\OneDrive\\\\Imágenes\\\\TUBERÍAS INCRUSTADAS\\\\TUBERIASINCRUSTADASYOLOV8\\\\labels\\\\train\"\n",
    "\n",
    "# Obtiene listas de todas las imágenes y etiquetas en los directorios\n",
    "images = [f for f in os.listdir(images_path) if f.endswith(('.png', '.jpg', '.jpeg'))]\n",
    "labels = [f for f in os.listdir(labels_path) if f.endswith('.txt')]\n",
    "\n",
    "# Verifica las etiquetas correspondientes para cada imagen y cuenta coincidencias\n",
    "matched_images = []\n",
    "unmatched_images = []\n",
    "for image in images:\n",
    "    label = image.rsplit('.', 1)[0] + '.txt'\n",
    "    if label in labels:\n",
    "        matched_images.append(image)\n",
    "    else:\n",
    "        unmatched_images.append(image)\n",
    "\n",
    "# Muestra los resultados\n",
    "print(\"Total de imágenes:\", len(images))\n",
    "print(\"Total de etiquetas:\", len(labels))\n",
    "print(\"Imágenes con etiqueta correspondiente:\", len(matched_images))\n",
    "print(\"Imágenes sin etiqueta correspondiente:\", len(unmatched_images))"
   ]
  },
  {
   "cell_type": "code",
   "execution_count": 8,
   "metadata": {},
   "outputs": [
    {
     "name": "stdout",
     "output_type": "stream",
     "text": [
      "Imágenes sin etiqueta correspondiente: []\n"
     ]
    }
   ],
   "source": [
    "import os\n",
    "\n",
    "# Define las rutas a las carpetas de imágenes y etiquetas\n",
    "images_path = \"C:\\\\Users\\\\Diego\\\\OneDrive\\\\Imágenes\\\\TUBERÍAS INCRUSTADAS\\\\DATA TOTAL\"\n",
    "labels_path = \"C:\\\\Users\\\\Diego\\\\OneDrive\\\\Imágenes\\\\TUBERÍAS INCRUSTADAS\\\\TUBERIASINCRUSTADASYOLOV8\\\\labels\\\\train\"\n",
    "\n",
    "# Obtiene listas de todas las imágenes y etiquetas en los directorios\n",
    "images = [f for f in os.listdir(images_path) if f.endswith(('.png', '.jpg', '.jpeg'))]\n",
    "labels = [f for f in os.listdir(labels_path) if f.endswith('.txt')]\n",
    "\n",
    "# Verifica las etiquetas correspondientes para cada imagen y cuenta coincidencias\n",
    "unmatched_images = []\n",
    "for image in images:\n",
    "    label = image.rsplit('.', 1)[0] + '.txt'\n",
    "    if label not in labels:\n",
    "        unmatched_images.append(image)\n",
    "\n",
    "# Muestra los nombres de las imágenes sin etiqueta correspondiente\n",
    "print(\"Imágenes sin etiqueta correspondiente:\", unmatched_images)\n"
   ]
  },
  {
   "cell_type": "code",
   "execution_count": 10,
   "metadata": {},
   "outputs": [
    {
     "name": "stdout",
     "output_type": "stream",
     "text": [
      "División completada. Todas las imágenes y etiquetas correspondientes se han movido a sus carpetas respectivas.\n"
     ]
    }
   ],
   "source": [
    "import os\n",
    "import shutil\n",
    "import random\n",
    "\n",
    "# Define las rutas de origen y destino\n",
    "images_path = \"C:\\\\Users\\\\Diego\\\\OneDrive\\\\Imágenes\\\\TUBERÍAS INCRUSTADAS\\\\DATA TOTAL\"\n",
    "labels_path = \"C:\\\\Users\\\\Diego\\\\OneDrive\\\\Imágenes\\\\TUBERÍAS INCRUSTADAS\\\\TUBERIASINCRUSTADASYOLOV8\\\\labels\\\\train\"\n",
    "\n",
    "train_images_path = \"C:\\\\Users\\\\Diego\\\\OneDrive\\\\Imágenes\\\\TUBERÍAS INCRUSTADAS\\\\DATA YOLO\\\\data\\\\images\\\\train\"\n",
    "test_images_path = \"C:\\\\Users\\\\Diego\\\\OneDrive\\\\Imágenes\\\\TUBERÍAS INCRUSTADAS\\\\DATA YOLO\\\\data\\\\images\\\\test\"\n",
    "valid_images_path = \"C:\\\\Users\\\\Diego\\\\OneDrive\\\\Imágenes\\\\TUBERÍAS INCRUSTADAS\\\\DATA YOLO\\\\data\\\\images\\\\valid\"\n",
    "\n",
    "train_labels_path = \"C:\\\\Users\\\\Diego\\\\OneDrive\\\\Imágenes\\\\TUBERÍAS INCRUSTADAS\\\\DATA YOLO\\\\data\\\\labels\\\\train\"\n",
    "test_labels_path = \"C:\\\\Users\\\\Diego\\\\OneDrive\\\\Imágenes\\\\TUBERÍAS INCRUSTADAS\\\\DATA YOLO\\\\data\\\\labels\\\\test\"\n",
    "valid_labels_path = \"C:\\\\Users\\\\Diego\\\\OneDrive\\\\Imágenes\\\\TUBERÍAS INCRUSTADAS\\\\DATA YOLO\\\\data\\\\labels\\\\valid\"\n",
    "\n",
    "# Crea las carpetas de destino si no existen\n",
    "for path in [train_images_path, test_images_path, valid_images_path, train_labels_path, test_labels_path, valid_labels_path]:\n",
    "    os.makedirs(path, exist_ok=True)\n",
    "\n",
    "# Lista todas las imágenes y las mezcla aleatoriamente\n",
    "images = [f for f in os.listdir(images_path) if f.endswith(('.png', '.jpg', '.jpeg'))]\n",
    "random.shuffle(images)\n",
    "\n",
    "# Define las cantidades para train, valid y test\n",
    "total_images = len(images)\n",
    "train_size = int(total_images * 0.75)\n",
    "valid_size = int(total_images * 0.20)\n",
    "test_size = total_images - train_size - valid_size\n",
    "\n",
    "# Divide las imágenes y etiquetas en sus respectivas carpetas\n",
    "for i, image in enumerate(images):\n",
    "    # Asegura que cada imagen tenga su respectiva etiqueta\n",
    "    label = image.rsplit('.', 1)[0] + '.txt'\n",
    "    src_image = os.path.join(images_path, image)\n",
    "    src_label = os.path.join(labels_path, label)\n",
    "    \n",
    "    # Verifica que la etiqueta correspondiente exista antes de mover\n",
    "    if os.path.exists(src_label):\n",
    "        # Asigna cada imagen y etiqueta a train, valid o test\n",
    "        if i < train_size:\n",
    "            dest_image = os.path.join(train_images_path, image)\n",
    "            dest_label = os.path.join(train_labels_path, label)\n",
    "        elif i < train_size + valid_size:\n",
    "            dest_image = os.path.join(valid_images_path, image)\n",
    "            dest_label = os.path.join(valid_labels_path, label)\n",
    "        else:\n",
    "            dest_image = os.path.join(test_images_path, image)\n",
    "            dest_label = os.path.join(test_labels_path, label)\n",
    "        \n",
    "        # Mueve las imágenes y etiquetas a sus respectivas carpetas\n",
    "        shutil.copy(src_image, dest_image)\n",
    "        shutil.copy(src_label, dest_label)\n",
    "\n",
    "print(\"División completada. Todas las imágenes y etiquetas correspondientes se han movido a sus carpetas respectivas.\")\n"
   ]
  },
  {
   "cell_type": "code",
   "execution_count": 11,
   "metadata": {},
   "outputs": [
    {
     "name": "stdout",
     "output_type": "stream",
     "text": [
      "Todas las imágenes en train tienen su etiqueta correspondiente.\n",
      "Todas las imágenes en test tienen su etiqueta correspondiente.\n",
      "Todas las imágenes en valid tienen su etiqueta correspondiente.\n"
     ]
    }
   ],
   "source": [
    "import os\n",
    "\n",
    "# Define las rutas de las carpetas de imágenes y etiquetas\n",
    "images_path = \"C:\\\\Users\\\\Diego\\\\OneDrive\\\\Imágenes\\\\TUBERÍAS INCRUSTADAS\\\\DATA TOTAL\"\n",
    "labels_path = \"C:\\\\Users\\\\Diego\\\\OneDrive\\\\Imágenes\\\\TUBERÍAS INCRUSTADAS\\\\TUBERIASINCRUSTADASYOLOV8\\\\labels\\\\train\"\n",
    "\n",
    "train_images_path = \"C:\\\\Users\\\\Diego\\\\OneDrive\\\\Imágenes\\\\TUBERÍAS INCRUSTADAS\\\\DATA YOLO\\\\data\\\\images\\\\train\"\n",
    "test_images_path = \"C:\\\\Users\\\\Diego\\\\OneDrive\\\\Imágenes\\\\TUBERÍAS INCRUSTADAS\\\\DATA YOLO\\\\data\\\\images\\\\test\"\n",
    "valid_images_path = \"C:\\\\Users\\\\Diego\\\\OneDrive\\\\Imágenes\\\\TUBERÍAS INCRUSTADAS\\\\DATA YOLO\\\\data\\\\images\\\\valid\"\n",
    "\n",
    "train_labels_path = \"C:\\\\Users\\\\Diego\\\\OneDrive\\\\Imágenes\\\\TUBERÍAS INCRUSTADAS\\\\DATA YOLO\\\\data\\\\labels\\\\train\"\n",
    "test_labels_path = \"C:\\\\Users\\\\Diego\\\\OneDrive\\\\Imágenes\\\\TUBERÍAS INCRUSTADAS\\\\DATA YOLO\\\\data\\\\labels\\\\test\"\n",
    "valid_labels_path = \"C:\\\\Users\\\\Diego\\\\OneDrive\\\\Imágenes\\\\TUBERÍAS INCRUSTADAS\\\\DATA YOLO\\\\data\\\\labels\\\\valid\"\n",
    "\n",
    "\n",
    "# Función para verificar correspondencia de imágenes y etiquetas en una carpeta específica\n",
    "def verify_labels(images_path, labels_path):\n",
    "    images = [f for f in os.listdir(images_path) if f.endswith(('.png', '.jpg', '.jpeg'))]\n",
    "    labels = [f for f in os.listdir(labels_path) if f.endswith('.txt')]\n",
    "    \n",
    "    # Revisa cada imagen para asegurar que tiene su archivo de etiqueta correspondiente\n",
    "    missing_labels = []\n",
    "    for image in images:\n",
    "        label = image.rsplit('.', 1)[0] + '.txt'\n",
    "        if label not in labels:\n",
    "            missing_labels.append(image)\n",
    "    \n",
    "    return missing_labels\n",
    "\n",
    "# Verificar en cada conjunto de datos\n",
    "train_missing = verify_labels(train_images_path, train_labels_path)\n",
    "test_missing = verify_labels(test_images_path, test_labels_path)\n",
    "valid_missing = verify_labels(valid_images_path, valid_labels_path)\n",
    "\n",
    "# Imprimir resultados\n",
    "if train_missing:\n",
    "    print(\"Imágenes en train sin etiqueta correspondiente:\", train_missing)\n",
    "else:\n",
    "    print(\"Todas las imágenes en train tienen su etiqueta correspondiente.\")\n",
    "\n",
    "if test_missing:\n",
    "    print(\"Imágenes en test sin etiqueta correspondiente:\", test_missing)\n",
    "else:\n",
    "    print(\"Todas las imágenes en test tienen su etiqueta correspondiente.\")\n",
    "\n",
    "if valid_missing:\n",
    "    print(\"Imágenes en valid sin etiqueta correspondiente:\", valid_missing)\n",
    "else:\n",
    "    print(\"Todas las imágenes en valid tienen su etiqueta correspondiente.\")\n"
   ]
  },
  {
   "cell_type": "code",
   "execution_count": 12,
   "metadata": {},
   "outputs": [
    {
     "name": "stdout",
     "output_type": "stream",
     "text": [
      "Total de imágenes en train: 629\n",
      "Total de imágenes en test: 43\n",
      "Total de imágenes en valid: 167\n"
     ]
    }
   ],
   "source": [
    "import os\n",
    "\n",
    "# Definir las rutas a las carpetas de imágenes de train, test y valid\n",
    "train_images_path = \"C:\\\\Users\\\\Diego\\\\OneDrive\\\\Imágenes\\\\TUBERÍAS INCRUSTADAS\\\\DATA YOLO\\\\data\\\\images\\\\train\"\n",
    "test_images_path = \"C:\\\\Users\\\\Diego\\\\OneDrive\\\\Imágenes\\\\TUBERÍAS INCRUSTADAS\\\\DATA YOLO\\\\data\\\\images\\\\test\"\n",
    "valid_images_path = \"C:\\\\Users\\\\Diego\\\\OneDrive\\\\Imágenes\\\\TUBERÍAS INCRUSTADAS\\\\DATA YOLO\\\\data\\\\images\\\\valid\"\n",
    "\n",
    "# Contar el número de archivos de imagen en cada carpeta\n",
    "train_count = len([f for f in os.listdir(train_images_path) if f.endswith(('.png', '.jpg', '.jpeg'))])\n",
    "test_count = len([f for f in os.listdir(test_images_path) if f.endswith(('.png', '.jpg', '.jpeg'))])\n",
    "valid_count = len([f for f in os.listdir(valid_images_path) if f.endswith(('.png', '.jpg', '.jpeg'))])\n",
    "\n",
    "# Mostrar los resultados\n",
    "print(\"Total de imágenes en train:\", train_count)\n",
    "print(\"Total de imágenes en test:\", test_count)\n",
    "print(\"Total de imágenes en valid:\", valid_count)\n"
   ]
  }
 ],
 "metadata": {
  "kernelspec": {
   "display_name": "Python 3",
   "language": "python",
   "name": "python3"
  },
  "language_info": {
   "codemirror_mode": {
    "name": "ipython",
    "version": 3
   },
   "file_extension": ".py",
   "mimetype": "text/x-python",
   "name": "python",
   "nbconvert_exporter": "python",
   "pygments_lexer": "ipython3",
   "version": "3.12.4"
  }
 },
 "nbformat": 4,
 "nbformat_minor": 2
}
