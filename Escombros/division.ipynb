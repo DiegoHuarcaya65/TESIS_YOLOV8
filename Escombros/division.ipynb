{
 "cells": [
  {
   "cell_type": "code",
   "execution_count": 4,
   "metadata": {},
   "outputs": [
    {
     "name": "stdout",
     "output_type": "stream",
     "text": [
      "Total de imágenes: 500\n",
      "Total de etiquetas: 500\n",
      "Imágenes con etiqueta correspondiente: 500\n",
      "Imágenes sin etiqueta correspondiente: 0\n"
     ]
    }
   ],
   "source": [
    "#Veremos si cada imagen tiene su respectivo label\n",
    "import os\n",
    "\n",
    "# Define las rutas a las carpetas de imágenes y etiquetas\n",
    "images_path = \"C:/Users/Diego/OneDrive/Imágenes/ESCOMBROS/DATA TOTAL\"\n",
    "labels_path = \"C:/Users/Diego/OneDrive/Imágenes/ESCOMBROS/ESCOMBROS_YOLO/labels/train\"\n",
    "\n",
    "# Obtiene listas de todas las imágenes y etiquetas en los directorios\n",
    "images = [f for f in os.listdir(images_path) if f.endswith(('.png', '.jpg', '.jpeg'))]\n",
    "labels = [f for f in os.listdir(labels_path) if f.endswith('.txt')]\n",
    "\n",
    "# Verifica las etiquetas correspondientes para cada imagen y cuenta coincidencias\n",
    "matched_images = []\n",
    "unmatched_images = []\n",
    "for image in images:\n",
    "    label = image.rsplit('.', 1)[0] + '.txt'\n",
    "    if label in labels:\n",
    "        matched_images.append(image)\n",
    "    else:\n",
    "        unmatched_images.append(image)\n",
    "\n",
    "# Muestra los resultados\n",
    "print(\"Total de imágenes:\", len(images))\n",
    "print(\"Total de etiquetas:\", len(labels))\n",
    "print(\"Imágenes con etiqueta correspondiente:\", len(matched_images))\n",
    "print(\"Imágenes sin etiqueta correspondiente:\", len(unmatched_images))"
   ]
  },
  {
   "cell_type": "code",
   "execution_count": 6,
   "metadata": {},
   "outputs": [
    {
     "name": "stdout",
     "output_type": "stream",
     "text": [
      "División completada. Todas las imágenes y etiquetas correspondientes se han movido a sus carpetas respectivas.\n"
     ]
    }
   ],
   "source": [
    "import os\n",
    "import shutil\n",
    "import random\n",
    "\n",
    "# Define las rutas de origen y destino\n",
    "images_path = \"C:\\\\Users\\\\Diego\\\\OneDrive\\\\Imágenes\\\\ESCOMBROS\\\\DATA TOTAL\"\n",
    "labels_path = \"C:\\\\Users\\\\Diego\\\\OneDrive\\\\Imágenes\\\\ESCOMBROS\\\\ESCOMBROS_YOLO\\\\labels\\\\train\"\n",
    "\n",
    "train_images_path = \"C:\\\\Users\\\\Diego\\\\OneDrive\\\\Imágenes\\\\ESCOMBROS\\\\DATA YOLO\\\\data\\\\images\\\\train\"\n",
    "test_images_path = \"C:\\\\Users\\\\Diego\\\\OneDrive\\\\Imágenes\\\\ESCOMBROS\\\\DATA YOLO\\\\data\\\\images\\\\test\"\n",
    "valid_images_path = \"C:\\\\Users\\\\Diego\\\\OneDrive\\\\Imágenes\\\\ESCOMBROS\\\\DATA YOLO\\\\data\\\\images\\\\valid\"\n",
    "\n",
    "train_labels_path = \"C:\\\\Users\\\\Diego\\\\OneDrive\\\\Imágenes\\\\ESCOMBROS\\\\DATA YOLO\\\\data\\\\labels\\\\train\"\n",
    "test_labels_path = \"C:\\\\Users\\\\Diego\\\\OneDrive\\\\Imágenes\\\\ESCOMBROS\\\\DATA YOLO\\\\data\\\\labels\\\\test\"\n",
    "valid_labels_path = \"C:\\\\Users\\\\Diego\\\\OneDrive\\\\Imágenes\\\\ESCOMBROS\\\\DATA YOLO\\\\data\\\\labels\\\\valid\"\n",
    "\n",
    "# Crea las carpetas de destino si no existen\n",
    "for path in [train_images_path, test_images_path, valid_images_path, train_labels_path, test_labels_path, valid_labels_path]:\n",
    "    os.makedirs(path, exist_ok=True)\n",
    "\n",
    "# Lista todas las imágenes y las mezcla aleatoriamente\n",
    "images = [f for f in os.listdir(images_path) if f.endswith(('.png', '.jpg', '.jpeg'))]\n",
    "random.shuffle(images)\n",
    "\n",
    "# Define las cantidades para train, valid y test\n",
    "total_images = len(images)\n",
    "train_size = int(total_images * 0.75)\n",
    "valid_size = int(total_images * 0.20)\n",
    "test_size = total_images - train_size - valid_size\n",
    "\n",
    "# Divide las imágenes y etiquetas en sus respectivas carpetas\n",
    "for i, image in enumerate(images):\n",
    "    # Asegura que cada imagen tenga su respectiva etiqueta\n",
    "    label = image.rsplit('.', 1)[0] + '.txt'\n",
    "    src_image = os.path.join(images_path, image)\n",
    "    src_label = os.path.join(labels_path, label)\n",
    "    \n",
    "    # Verifica que la etiqueta correspondiente exista antes de mover\n",
    "    if os.path.exists(src_label):\n",
    "        # Asigna cada imagen y etiqueta a train, valid o test\n",
    "        if i < train_size:\n",
    "            dest_image = os.path.join(train_images_path, image)\n",
    "            dest_label = os.path.join(train_labels_path, label)\n",
    "        elif i < train_size + valid_size:\n",
    "            dest_image = os.path.join(valid_images_path, image)\n",
    "            dest_label = os.path.join(valid_labels_path, label)\n",
    "        else:\n",
    "            dest_image = os.path.join(test_images_path, image)\n",
    "            dest_label = os.path.join(test_labels_path, label)\n",
    "        \n",
    "        # Mueve las imágenes y etiquetas a sus respectivas carpetas\n",
    "        shutil.copy(src_image, dest_image)\n",
    "        shutil.copy(src_label, dest_label)\n",
    "\n",
    "print(\"División completada. Todas las imágenes y etiquetas correspondientes se han movido a sus carpetas respectivas.\")\n"
   ]
  },
  {
   "cell_type": "code",
   "execution_count": 7,
   "metadata": {},
   "outputs": [
    {
     "name": "stdout",
     "output_type": "stream",
     "text": [
      "Todas las imágenes en train tienen su etiqueta correspondiente.\n",
      "Todas las imágenes en test tienen su etiqueta correspondiente.\n",
      "Todas las imágenes en valid tienen su etiqueta correspondiente.\n"
     ]
    }
   ],
   "source": [
    "import os\n",
    "\n",
    "# Define las rutas de las carpetas de imágenes y etiquetas\n",
    "train_images_path = \"C:\\\\Users\\\\Diego\\\\OneDrive\\\\Imágenes\\\\ESCOMBROS\\\\DATA YOLO\\\\data\\\\images\\\\train\"\n",
    "test_images_path = \"C:\\\\Users\\\\Diego\\\\OneDrive\\\\Imágenes\\\\ESCOMBROS\\\\DATA YOLO\\\\data\\\\images\\\\test\"\n",
    "valid_images_path = \"C:\\\\Users\\\\Diego\\\\OneDrive\\\\Imágenes\\\\ESCOMBROS\\\\DATA YOLO\\\\data\\\\images\\\\valid\"\n",
    "\n",
    "train_labels_path = \"C:\\\\Users\\\\Diego\\\\OneDrive\\\\Imágenes\\\\ESCOMBROS\\\\DATA YOLO\\\\data\\\\labels\\\\train\"\n",
    "test_labels_path = \"C:\\\\Users\\\\Diego\\\\OneDrive\\\\Imágenes\\\\ESCOMBROS\\\\DATA YOLO\\\\data\\\\labels\\\\test\"\n",
    "valid_labels_path = \"C:\\\\Users\\\\Diego\\\\OneDrive\\\\Imágenes\\\\ESCOMBROS\\\\DATA YOLO\\\\data\\\\labels\\\\valid\"\n",
    "\n",
    "# Función para verificar correspondencia de imágenes y etiquetas en una carpeta específica\n",
    "def verify_labels(images_path, labels_path):\n",
    "    images = [f for f in os.listdir(images_path) if f.endswith(('.png', '.jpg', '.jpeg'))]\n",
    "    labels = [f for f in os.listdir(labels_path) if f.endswith('.txt')]\n",
    "    \n",
    "    # Revisa cada imagen para asegurar que tiene su archivo de etiqueta correspondiente\n",
    "    missing_labels = []\n",
    "    for image in images:\n",
    "        label = image.rsplit('.', 1)[0] + '.txt'\n",
    "        if label not in labels:\n",
    "            missing_labels.append(image)\n",
    "    \n",
    "    return missing_labels\n",
    "\n",
    "# Verificar en cada conjunto de datos\n",
    "train_missing = verify_labels(train_images_path, train_labels_path)\n",
    "test_missing = verify_labels(test_images_path, test_labels_path)\n",
    "valid_missing = verify_labels(valid_images_path, valid_labels_path)\n",
    "\n",
    "# Imprimir resultados\n",
    "if train_missing:\n",
    "    print(\"Imágenes en train sin etiqueta correspondiente:\", train_missing)\n",
    "else:\n",
    "    print(\"Todas las imágenes en train tienen su etiqueta correspondiente.\")\n",
    "\n",
    "if test_missing:\n",
    "    print(\"Imágenes en test sin etiqueta correspondiente:\", test_missing)\n",
    "else:\n",
    "    print(\"Todas las imágenes en test tienen su etiqueta correspondiente.\")\n",
    "\n",
    "if valid_missing:\n",
    "    print(\"Imágenes en valid sin etiqueta correspondiente:\", valid_missing)\n",
    "else:\n",
    "    print(\"Todas las imágenes en valid tienen su etiqueta correspondiente.\")\n"
   ]
  },
  {
   "cell_type": "code",
   "execution_count": 2,
   "metadata": {},
   "outputs": [
    {
     "name": "stdout",
     "output_type": "stream",
     "text": [
      "Train - Imágenes: 375, Etiquetas: 375\n",
      "Test - Imágenes: 25, Etiquetas: 25\n",
      "Valid - Imágenes: 100, Etiquetas: 100\n"
     ]
    }
   ],
   "source": [
    "import os\n",
    "\n",
    "# Rutas de las carpetas\n",
    "paths = {\n",
    "    \"train\": {\n",
    "        \"images\": \"C:\\\\Users\\\\Diego\\\\OneDrive\\\\Imágenes\\\\ESCOMBROS\\\\DATA YOLO\\\\data\\\\images\\\\train\",\n",
    "        \"labels\": \"C:\\\\Users\\\\Diego\\\\OneDrive\\\\Imágenes\\\\ESCOMBROS\\\\DATA YOLO\\\\data\\\\labels\\\\train\"\n",
    "    },\n",
    "    \"test\": {\n",
    "        \"images\": \"C:\\\\Users\\\\Diego\\\\OneDrive\\\\Imágenes\\\\ESCOMBROS\\\\DATA YOLO\\\\data\\\\images\\\\test\",\n",
    "        \"labels\": \"C:\\\\Users\\\\Diego\\\\OneDrive\\\\Imágenes\\\\ESCOMBROS\\\\DATA YOLO\\\\data\\\\labels\\\\test\"\n",
    "    },\n",
    "    \"valid\": {\n",
    "        \"images\": \"C:\\\\Users\\\\Diego\\\\OneDrive\\\\Imágenes\\\\ESCOMBROS\\\\DATA YOLO\\\\data\\\\images\\\\valid\",\n",
    "        \"labels\": \"C:\\\\Users\\\\Diego\\\\OneDrive\\\\Imágenes\\\\ESCOMBROS\\\\DATA YOLO\\\\data\\\\labels\\\\valid\"\n",
    "    }\n",
    "}\n",
    "\n",
    "# Función para contar archivos en una carpeta\n",
    "def count_files(path, extensions):\n",
    "    return len([f for f in os.listdir(path) if f.lower().endswith(extensions)])\n",
    "\n",
    "# Contar imágenes y etiquetas en cada carpeta\n",
    "counts = {}\n",
    "for split, folders in paths.items():\n",
    "    counts[split] = {\n",
    "        \"images\": count_files(folders[\"images\"], ('.png', '.jpg', '.jpeg')),\n",
    "        \"labels\": count_files(folders[\"labels\"], ('.txt',))\n",
    "    }\n",
    "\n",
    "# Imprimir los resultados\n",
    "for split, count in counts.items():\n",
    "    print(f\"{split.capitalize()} - Imágenes: {count['images']}, Etiquetas: {count['labels']}\")\n"
   ]
  }
 ],
 "metadata": {
  "kernelspec": {
   "display_name": "Python 3",
   "language": "python",
   "name": "python3"
  },
  "language_info": {
   "codemirror_mode": {
    "name": "ipython",
    "version": 3
   },
   "file_extension": ".py",
   "mimetype": "text/x-python",
   "name": "python",
   "nbconvert_exporter": "python",
   "pygments_lexer": "ipython3",
   "version": "3.12.4"
  }
 },
 "nbformat": 4,
 "nbformat_minor": 2
}
